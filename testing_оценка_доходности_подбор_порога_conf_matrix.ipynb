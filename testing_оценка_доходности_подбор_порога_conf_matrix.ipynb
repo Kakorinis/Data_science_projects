{
  "nbformat": 4,
  "nbformat_minor": 0,
  "metadata": {
    "colab": {
      "provenance": [],
      "collapsed_sections": []
    },
    "kernelspec": {
      "name": "python3",
      "display_name": "Python 3"
    },
    "language_info": {
      "name": "python"
    }
  },
  "cells": [
    {
      "cell_type": "markdown",
      "source": [
        "Кейс - есть набор данных клиентов, который состоит из 2 групп:\n",
        "- приносящие прибыль (Exited = 1),\n",
        "- не приносящие прибыль (Exited = 0)\n",
        "\n",
        "Задача состоит в том, чтобы на данном наборе построить классификационную модель МО, которая сможет предсказывать на новых данных вероятность покупки клиентом услуги и оценить доходность стратегии развития бизнеса, состоящей из ежемесячных затрат в размере 1 доллара на yдержание клиента при учете того, что каждый лояльный клиент (TP) будет приносить 5 долларов в мес."
      ],
      "metadata": {
        "id": "i8V7gWddYZ_T"
      }
    },
    {
      "cell_type": "markdown",
      "source": [
        "__Реализация__ \n",
        "\n",
        "Загружаем данные и пишем пайплайн обработки данных "
      ],
      "metadata": {
        "id": "08GsV0NboqzT"
      }
    },
    {
      "cell_type": "code",
      "source": [
        "from google.colab import drive\n",
        "drive.mount('/content/drive')"
      ],
      "metadata": {
        "colab": {
          "base_uri": "https://localhost:8080/"
        },
        "id": "WLrsOeeZHewq",
        "outputId": "a65227ba-1538-4f1d-88f2-398811ba195c"
      },
      "execution_count": 70,
      "outputs": [
        {
          "output_type": "stream",
          "name": "stdout",
          "text": [
            "Drive already mounted at /content/drive; to attempt to forcibly remount, call drive.mount(\"/content/drive\", force_remount=True).\n"
          ]
        }
      ]
    },
    {
      "cell_type": "code",
      "source": [
        "import numpy as np\n",
        "import pandas as pd\n",
        "\n",
        "\n",
        "from sklearn.pipeline import Pipeline, make_pipeline, FeatureUnion\n",
        "from sklearn.base import BaseEstimator, TransformerMixin\n",
        "from sklearn.preprocessing import StandardScaler, MinMaxScaler\n",
        "\n",
        "from sklearn.linear_model import LogisticRegression\n",
        "from sklearn.svm import SVC\n",
        "from catboost import CatBoostClassifier \n",
        "from sklearn.ensemble import GradientBoostingClassifier, ExtraTreesClassifier\n",
        "\n",
        "from sklearn.model_selection import cross_val_score, train_test_split, GridSearchCV, KFold \n",
        "\n",
        "from sklearn.metrics import f1_score, roc_auc_score, log_loss, precision_recall_curve, confusion_matrix\n",
        "\n",
        "%matplotlib inline\n",
        "\n",
        "pd.set_option(\"display.max_rows\", 6)"
      ],
      "metadata": {
        "id": "b4bxm_GHRMjS"
      },
      "execution_count": 71,
      "outputs": []
    },
    {
      "cell_type": "code",
      "source": [
        "with open('/content/drive/MyDrive/ГБ/выборки для исследований/churn_data.csv', \"rb\") as f:\n",
        "    df = pd.read_csv(f)\n",
        "    \n",
        "df.head(3)"
      ],
      "metadata": {
        "colab": {
          "base_uri": "https://localhost:8080/",
          "height": 143
        },
        "id": "ksBFewf4njLD",
        "outputId": "c0e8b9e5-78b4-42ef-c813-59c762cf407b"
      },
      "execution_count": 72,
      "outputs": [
        {
          "output_type": "execute_result",
          "data": {
            "text/plain": [
              "   RowNumber  CustomerId   Surname  CreditScore Geography  Gender  Age  \\\n",
              "0          1    15634602  Hargrave          619    France  Female   42   \n",
              "1          2    15647311      Hill          608     Spain  Female   41   \n",
              "2          3    15619304      Onio          502    France  Female   42   \n",
              "\n",
              "   Tenure    Balance  NumOfProducts  HasCrCard  IsActiveMember  \\\n",
              "0       2       0.00              1          1               1   \n",
              "1       1   83807.86              1          0               1   \n",
              "2       8  159660.80              3          1               0   \n",
              "\n",
              "   EstimatedSalary  Exited  \n",
              "0        101348.88       1  \n",
              "1        112542.58       0  \n",
              "2        113931.57       1  "
            ],
            "text/html": [
              "\n",
              "  <div id=\"df-46004f81-5c27-43f1-92bc-60dccd8cb94e\">\n",
              "    <div class=\"colab-df-container\">\n",
              "      <div>\n",
              "<style scoped>\n",
              "    .dataframe tbody tr th:only-of-type {\n",
              "        vertical-align: middle;\n",
              "    }\n",
              "\n",
              "    .dataframe tbody tr th {\n",
              "        vertical-align: top;\n",
              "    }\n",
              "\n",
              "    .dataframe thead th {\n",
              "        text-align: right;\n",
              "    }\n",
              "</style>\n",
              "<table border=\"1\" class=\"dataframe\">\n",
              "  <thead>\n",
              "    <tr style=\"text-align: right;\">\n",
              "      <th></th>\n",
              "      <th>RowNumber</th>\n",
              "      <th>CustomerId</th>\n",
              "      <th>Surname</th>\n",
              "      <th>CreditScore</th>\n",
              "      <th>Geography</th>\n",
              "      <th>Gender</th>\n",
              "      <th>Age</th>\n",
              "      <th>Tenure</th>\n",
              "      <th>Balance</th>\n",
              "      <th>NumOfProducts</th>\n",
              "      <th>HasCrCard</th>\n",
              "      <th>IsActiveMember</th>\n",
              "      <th>EstimatedSalary</th>\n",
              "      <th>Exited</th>\n",
              "    </tr>\n",
              "  </thead>\n",
              "  <tbody>\n",
              "    <tr>\n",
              "      <th>0</th>\n",
              "      <td>1</td>\n",
              "      <td>15634602</td>\n",
              "      <td>Hargrave</td>\n",
              "      <td>619</td>\n",
              "      <td>France</td>\n",
              "      <td>Female</td>\n",
              "      <td>42</td>\n",
              "      <td>2</td>\n",
              "      <td>0.00</td>\n",
              "      <td>1</td>\n",
              "      <td>1</td>\n",
              "      <td>1</td>\n",
              "      <td>101348.88</td>\n",
              "      <td>1</td>\n",
              "    </tr>\n",
              "    <tr>\n",
              "      <th>1</th>\n",
              "      <td>2</td>\n",
              "      <td>15647311</td>\n",
              "      <td>Hill</td>\n",
              "      <td>608</td>\n",
              "      <td>Spain</td>\n",
              "      <td>Female</td>\n",
              "      <td>41</td>\n",
              "      <td>1</td>\n",
              "      <td>83807.86</td>\n",
              "      <td>1</td>\n",
              "      <td>0</td>\n",
              "      <td>1</td>\n",
              "      <td>112542.58</td>\n",
              "      <td>0</td>\n",
              "    </tr>\n",
              "    <tr>\n",
              "      <th>2</th>\n",
              "      <td>3</td>\n",
              "      <td>15619304</td>\n",
              "      <td>Onio</td>\n",
              "      <td>502</td>\n",
              "      <td>France</td>\n",
              "      <td>Female</td>\n",
              "      <td>42</td>\n",
              "      <td>8</td>\n",
              "      <td>159660.80</td>\n",
              "      <td>3</td>\n",
              "      <td>1</td>\n",
              "      <td>0</td>\n",
              "      <td>113931.57</td>\n",
              "      <td>1</td>\n",
              "    </tr>\n",
              "  </tbody>\n",
              "</table>\n",
              "</div>\n",
              "      <button class=\"colab-df-convert\" onclick=\"convertToInteractive('df-46004f81-5c27-43f1-92bc-60dccd8cb94e')\"\n",
              "              title=\"Convert this dataframe to an interactive table.\"\n",
              "              style=\"display:none;\">\n",
              "        \n",
              "  <svg xmlns=\"http://www.w3.org/2000/svg\" height=\"24px\"viewBox=\"0 0 24 24\"\n",
              "       width=\"24px\">\n",
              "    <path d=\"M0 0h24v24H0V0z\" fill=\"none\"/>\n",
              "    <path d=\"M18.56 5.44l.94 2.06.94-2.06 2.06-.94-2.06-.94-.94-2.06-.94 2.06-2.06.94zm-11 1L8.5 8.5l.94-2.06 2.06-.94-2.06-.94L8.5 2.5l-.94 2.06-2.06.94zm10 10l.94 2.06.94-2.06 2.06-.94-2.06-.94-.94-2.06-.94 2.06-2.06.94z\"/><path d=\"M17.41 7.96l-1.37-1.37c-.4-.4-.92-.59-1.43-.59-.52 0-1.04.2-1.43.59L10.3 9.45l-7.72 7.72c-.78.78-.78 2.05 0 2.83L4 21.41c.39.39.9.59 1.41.59.51 0 1.02-.2 1.41-.59l7.78-7.78 2.81-2.81c.8-.78.8-2.07 0-2.86zM5.41 20L4 18.59l7.72-7.72 1.47 1.35L5.41 20z\"/>\n",
              "  </svg>\n",
              "      </button>\n",
              "      \n",
              "  <style>\n",
              "    .colab-df-container {\n",
              "      display:flex;\n",
              "      flex-wrap:wrap;\n",
              "      gap: 12px;\n",
              "    }\n",
              "\n",
              "    .colab-df-convert {\n",
              "      background-color: #E8F0FE;\n",
              "      border: none;\n",
              "      border-radius: 50%;\n",
              "      cursor: pointer;\n",
              "      display: none;\n",
              "      fill: #1967D2;\n",
              "      height: 32px;\n",
              "      padding: 0 0 0 0;\n",
              "      width: 32px;\n",
              "    }\n",
              "\n",
              "    .colab-df-convert:hover {\n",
              "      background-color: #E2EBFA;\n",
              "      box-shadow: 0px 1px 2px rgba(60, 64, 67, 0.3), 0px 1px 3px 1px rgba(60, 64, 67, 0.15);\n",
              "      fill: #174EA6;\n",
              "    }\n",
              "\n",
              "    [theme=dark] .colab-df-convert {\n",
              "      background-color: #3B4455;\n",
              "      fill: #D2E3FC;\n",
              "    }\n",
              "\n",
              "    [theme=dark] .colab-df-convert:hover {\n",
              "      background-color: #434B5C;\n",
              "      box-shadow: 0px 1px 3px 1px rgba(0, 0, 0, 0.15);\n",
              "      filter: drop-shadow(0px 1px 2px rgba(0, 0, 0, 0.3));\n",
              "      fill: #FFFFFF;\n",
              "    }\n",
              "  </style>\n",
              "\n",
              "      <script>\n",
              "        const buttonEl =\n",
              "          document.querySelector('#df-46004f81-5c27-43f1-92bc-60dccd8cb94e button.colab-df-convert');\n",
              "        buttonEl.style.display =\n",
              "          google.colab.kernel.accessAllowed ? 'block' : 'none';\n",
              "\n",
              "        async function convertToInteractive(key) {\n",
              "          const element = document.querySelector('#df-46004f81-5c27-43f1-92bc-60dccd8cb94e');\n",
              "          const dataTable =\n",
              "            await google.colab.kernel.invokeFunction('convertToInteractive',\n",
              "                                                     [key], {});\n",
              "          if (!dataTable) return;\n",
              "\n",
              "          const docLinkHtml = 'Like what you see? Visit the ' +\n",
              "            '<a target=\"_blank\" href=https://colab.research.google.com/notebooks/data_table.ipynb>data table notebook</a>'\n",
              "            + ' to learn more about interactive tables.';\n",
              "          element.innerHTML = '';\n",
              "          dataTable['output_type'] = 'display_data';\n",
              "          await google.colab.output.renderOutput(dataTable, element);\n",
              "          const docLink = document.createElement('div');\n",
              "          docLink.innerHTML = docLinkHtml;\n",
              "          element.appendChild(docLink);\n",
              "        }\n",
              "      </script>\n",
              "    </div>\n",
              "  </div>\n",
              "  "
            ]
          },
          "metadata": {},
          "execution_count": 72
        }
      ]
    },
    {
      "cell_type": "code",
      "source": [
        "y = df['Exited']\n",
        "X = df.drop(columns='Exited')"
      ],
      "metadata": {
        "id": "KnNl7W5-pNqa"
      },
      "execution_count": 73,
      "outputs": []
    },
    {
      "cell_type": "code",
      "source": [
        "categorical_columns = ['Geography', 'Gender', 'Tenure', 'HasCrCard', 'IsActiveMember']\n",
        "continuous_columns = ['CreditScore', 'Age', 'Balance', 'NumOfProducts', 'EstimatedSalary']"
      ],
      "metadata": {
        "id": "sK_xrvZunjsN"
      },
      "execution_count": 74,
      "outputs": []
    },
    {
      "cell_type": "code",
      "source": [
        "X.info()"
      ],
      "metadata": {
        "colab": {
          "base_uri": "https://localhost:8080/"
        },
        "id": "HpLtr7j1qaW1",
        "outputId": "eb07ae96-b74d-4ea2-a9e4-6b3e22ea94c4"
      },
      "execution_count": 75,
      "outputs": [
        {
          "output_type": "stream",
          "name": "stdout",
          "text": [
            "<class 'pandas.core.frame.DataFrame'>\n",
            "RangeIndex: 10000 entries, 0 to 9999\n",
            "Data columns (total 13 columns):\n",
            " #   Column           Non-Null Count  Dtype  \n",
            "---  ------           --------------  -----  \n",
            " 0   RowNumber        10000 non-null  int64  \n",
            " 1   CustomerId       10000 non-null  int64  \n",
            " 2   Surname          10000 non-null  object \n",
            " 3   CreditScore      10000 non-null  int64  \n",
            " 4   Geography        10000 non-null  object \n",
            " 5   Gender           10000 non-null  object \n",
            " 6   Age              10000 non-null  int64  \n",
            " 7   Tenure           10000 non-null  int64  \n",
            " 8   Balance          10000 non-null  float64\n",
            " 9   NumOfProducts    10000 non-null  int64  \n",
            " 10  HasCrCard        10000 non-null  int64  \n",
            " 11  IsActiveMember   10000 non-null  int64  \n",
            " 12  EstimatedSalary  10000 non-null  float64\n",
            "dtypes: float64(2), int64(8), object(3)\n",
            "memory usage: 1015.8+ KB\n"
          ]
        }
      ]
    },
    {
      "cell_type": "markdown",
      "source": [
        "'Tenure', 'HasCrCard', 'IsActiveMember' нужно перевести в тип данных объект"
      ],
      "metadata": {
        "id": "6RgYb9-oqwI8"
      }
    },
    {
      "cell_type": "code",
      "source": [
        "X = X.astype({'Tenure': np.object, 'HasCrCard': np.object, 'IsActiveMember': np.object})"
      ],
      "metadata": {
        "colab": {
          "base_uri": "https://localhost:8080/"
        },
        "id": "qNMKYc8ys2Sk",
        "outputId": "d6036ed5-ff69-42dd-ac67-32525c1e0185"
      },
      "execution_count": 76,
      "outputs": [
        {
          "output_type": "stream",
          "name": "stderr",
          "text": [
            "/usr/local/lib/python3.7/dist-packages/ipykernel_launcher.py:1: DeprecationWarning: `np.object` is a deprecated alias for the builtin `object`. To silence this warning, use `object` by itself. Doing this will not modify any behavior and is safe. \n",
            "Deprecated in NumPy 1.20; for more details and guidance: https://numpy.org/devdocs/release/1.20.0-notes.html#deprecations\n",
            "  \"\"\"Entry point for launching an IPython kernel.\n"
          ]
        }
      ]
    },
    {
      "cell_type": "code",
      "source": [
        "class ColumnSelector(BaseEstimator, TransformerMixin):\n",
        "    def __init__(self, key):\n",
        "        self.key = key\n",
        "\n",
        "    def fit(self, X, y=None):\n",
        "        return self\n",
        "\n",
        "    def transform(self, X):\n",
        "        return X[self.key]\n",
        "\n",
        "class OHEEncoder(BaseEstimator, TransformerMixin):\n",
        "    def __init__(self, key):\n",
        "        self.key = key\n",
        "        self.columns = []\n",
        "\n",
        "    def fit(self, X, y=None):\n",
        "        self.columns = [col for col in pd.get_dummies(X, prefix=self.key).columns]\n",
        "        return self\n",
        "\n",
        "    def transform(self, X):\n",
        "        X = pd.get_dummies(X, prefix=self.key)\n",
        "        test_columns = [col for col in X.columns]\n",
        "        for col_ in test_columns:\n",
        "            if col_ not in self.columns:\n",
        "                X[col_] = 0\n",
        "        return X[self.columns]"
      ],
      "metadata": {
        "id": "S1PjicG_ppCp"
      },
      "execution_count": 77,
      "outputs": []
    },
    {
      "cell_type": "code",
      "source": [
        "num_transfomer =  Pipeline([\n",
        "            ('selector', ColumnSelector(key=continuous_columns)),\n",
        "            ('standard', MinMaxScaler())\n",
        "        ])\n",
        "\n",
        "cat_transformer = Pipeline([\n",
        "            ('selector', ColumnSelector(key=categorical_columns)),\n",
        "            ('ohe', OHEEncoder(key=categorical_columns))\n",
        "        ])\n",
        "  \n",
        "feats = FeatureUnion([('transfomer_num', num_transfomer),\n",
        "                      ('cat_transformer', cat_transformer)\n",
        "                      ])\n",
        "\n",
        "#feature_processing = Pipeline([('sel', feats)])\n"
      ],
      "metadata": {
        "id": "h0Dzj-RTpw7a"
      },
      "execution_count": 78,
      "outputs": []
    },
    {
      "cell_type": "code",
      "source": [
        "X_train, X_test, y_train, y_test = train_test_split(X, y, random_state=1, test_size=0.3)"
      ],
      "metadata": {
        "id": "h_E55pIYzgwb"
      },
      "execution_count": 79,
      "outputs": []
    },
    {
      "cell_type": "markdown",
      "source": [
        "Далее буду сравнивать работу 4 разных моделей (просто так захотелось): градиентный бустинг, логистическая регрессия, модель на методе опорных векторов и экстремальные деревья"
      ],
      "metadata": {
        "id": "ZdNX0-VTdAmc"
      }
    },
    {
      "cell_type": "code",
      "source": [
        "# Пропишем алгоритм подсчета метрик для наших будущих моделей\n",
        "\n",
        "results = pd.DataFrame(columns=['model', 'thresh', 'F-Score', 'Precision', 'Recall', 'ROC AUC'])\n",
        "\n",
        "def compute_result(model, preds_proba, results):\n",
        "    precision, recall, thresholds = precision_recall_curve(y_test, preds_proba)\n",
        "    fscore = (2 * precision * recall) / (precision + recall)\n",
        "    auc = roc_auc_score(y_test, preds_proba)\n",
        "    ix = np.argmax(fscore)\n",
        "\n",
        "    results = results.append({\n",
        "      'model': type(model['classifier']).__name__ ,\n",
        "      'thresh': thresholds[ix],\n",
        "      'F-Score': fscore[ix],\n",
        "      'Precision': precision[ix],\n",
        "      'Recall': recall[ix],\n",
        "      'ROC AUC': auc\n",
        "      }, ignore_index=True)\n",
        "    \n",
        "    return results\n",
        "\n"
      ],
      "metadata": {
        "id": "UMMVfRdWu9Sk"
      },
      "execution_count": 80,
      "outputs": []
    },
    {
      "cell_type": "markdown",
      "source": [
        "Все готово для тестирования разных моделей и поиска их лучших гиперпараметров.\n",
        "\n",
        "<br>\n",
        "\n",
        "__С точки зрения корректности отладки алгоритмов использование пайплайна в данном случае яв-ся совсем не оптимальным, т.к. при поиске лучшей модели он запускается каждый раз заново в новой модели. Оптимальным было бы сразу трансформировать X и уже его разбивать на трейн и тест. В данной работе практикуем работу с пайплайнами__"
      ],
      "metadata": {
        "id": "N3o3sKQj0DgA"
      }
    },
    {
      "cell_type": "code",
      "source": [
        "# Начнем с гр. бустинга\n",
        "# %%time\n",
        "\n",
        "\n",
        "# gb_model = Pipeline([\n",
        "#     ('preprocessing', feats),\n",
        "#     ('classifier', GradientBoostingClassifier(random_state=1))\n",
        "# ])\n",
        "\n",
        "\n",
        "# params = [{#'classifier__criterion': ['friedman_mse', 'squared_error', 'mse'], # долго все перебирать\n",
        "#            'classifier__max_depth': [5,6], # range(4,7)\n",
        "#            'classifier__n_estimators':  [50, 100, 300, 500], # 750, 1000\n",
        "#            'classifier__learning_rate': [0.01, 0.1, 1], #, 10, 100\n",
        "#            'classifier__min_samples_leaf': [1, 2, 4]\n",
        "#            }]\n",
        "\n",
        "# grid_gb = GridSearchCV(gb_model, params, cv=5, n_jobs=-1)\n",
        "# grid_gb.fit(X_train, y_train)\n",
        "# grid_gb.best_params_\n",
        "\n",
        "# --------------------------\n",
        "# CPU times: user 24.9 s, sys: 1.39 s, total: 26.3 s\n",
        "# Wall time: 20min 56s\n",
        "# {'classifier__learning_rate': 0.01,\n",
        "#  'classifier__max_depth': 5,\n",
        "#  'classifier__min_samples_leaf': 4,\n",
        "#  'classifier__n_estimators': 500}\n"
      ],
      "metadata": {
        "id": "z8YtokRovwHA"
      },
      "execution_count": 81,
      "outputs": []
    },
    {
      "cell_type": "code",
      "source": [
        "# Запишем пайплайн гб с лучшими гиперпараметрами и его метрики\n",
        "\n",
        "gb_model = Pipeline([\n",
        "    ('preprocessing', feats),\n",
        "    ('classifier', GradientBoostingClassifier(random_state=1, learning_rate=0.01, max_depth=5, min_samples_leaf=4, n_estimators=500))\n",
        "])\n",
        "\n",
        "gb_model.fit(X_train, y_train)\n",
        "\n",
        "pred_gb = gb_model.predict_proba(X_test)[:, 1]\n",
        "\n",
        "results = compute_result(gb_model, pred_gb, results)\n"
      ],
      "metadata": {
        "id": "88a-gClMLQGw"
      },
      "execution_count": 82,
      "outputs": []
    },
    {
      "cell_type": "markdown",
      "source": [
        "Теперь потестим логистическую регрессию:"
      ],
      "metadata": {
        "id": "t7im-DFLfJKw"
      }
    },
    {
      "cell_type": "code",
      "source": [
        "# %%time\n",
        "\n",
        "# model_lg = Pipeline([\n",
        "#     ('preprocessing', feats),\n",
        "#     ('classifier', LogisticRegression(random_state=1))\n",
        "# ])\n",
        "\n",
        "# params_grid = [{'classifier__C': [0.01, 0.1, 1, 10, 100],\n",
        "#                'classifier__max_iter': [50, 100, 200, 300, 500],\n",
        "#                'classifier__solver': ['lbfgs', 'liblinear']}\n",
        "#                ]\n",
        "                \n",
        "\n",
        "# grid_lg = GridSearchCV(model_lg, params_grid, cv=5, n_jobs=-1)\n",
        "# grid_lg.fit(X_train, y_train)\n",
        "# grid_lg.best_params_\n",
        "\n",
        "# ---------------------\n",
        "# CPU times: user 5.53 s, sys: 297 ms, total: 5.83 s\n",
        "# Wall time: 23 s\n",
        "# {'classifier__C': 0.1,\n",
        "#  'classifier__max_iter': 50,\n",
        "#  'classifier__solver': 'lbfgs'}"
      ],
      "metadata": {
        "id": "U610oRgyxnsX"
      },
      "execution_count": 83,
      "outputs": []
    },
    {
      "cell_type": "code",
      "source": [
        "# Запишем пайплайн лог. регрессии с лучшими гиперпараметрами и ее метрики\n",
        "\n",
        "model_lg = Pipeline([\n",
        "    ('preprocessing', feats),\n",
        "    ('classifier', LogisticRegression(random_state=1,C=0.1, max_iter=50, solver='lbfgs'))\n",
        "    ])\n",
        "\n",
        "model_lg.fit(X_train, y_train)\n",
        "\n",
        "pred_lg = model_lg.predict_proba(X_test)[:, 1]\n",
        "\n",
        "results = compute_result(model_lg, pred_lg, results)\n",
        "\n"
      ],
      "metadata": {
        "colab": {
          "base_uri": "https://localhost:8080/"
        },
        "id": "lylbwIA2PWpi",
        "outputId": "721aed64-1385-47ea-a01f-d050ebdb8d1b"
      },
      "execution_count": 84,
      "outputs": [
        {
          "output_type": "stream",
          "name": "stderr",
          "text": [
            "/usr/local/lib/python3.7/dist-packages/ipykernel_launcher.py:7: RuntimeWarning: invalid value encountered in true_divide\n",
            "  import sys\n"
          ]
        }
      ]
    },
    {
      "cell_type": "markdown",
      "source": [
        "Лог. регрессия на что-то ругается, думаю это связано с подчетом метрики fscore ...\n",
        "\n",
        "Перейдем к модели на основе метода опорных векторов. Если в данных какой-то линейный косяк, который встретила лог. регрессия, то и на svc мы это должны увидеть"
      ],
      "metadata": {
        "id": "d5LHhb_KfTAt"
      }
    },
    {
      "cell_type": "code",
      "source": [
        "# %%time\n",
        "\n",
        "# model_svc = Pipeline([\n",
        "#     ('preprocessing', feats),\n",
        "#     ('classifier', SVC(random_state=1))\n",
        "# ])\n",
        "\n",
        "# params_grid = [{'classifier__gamma': [0.001, 0.01, 0.1, 1, 10, 100],\n",
        "#                 'classifier__C': [0.001, 0.01, 0.1, 1, 10, 100]\n",
        "#                 }]\n",
        "                \n",
        "\n",
        "# grid_svc = GridSearchCV(model_svc, params_grid, cv=5, n_jobs=-1)\n",
        "# grid_svc.fit(X_train, y_train)\n",
        "# grid_svc.best_params_\n",
        "\n",
        "\n",
        "# #--------------------\n",
        "# CPU times: user 8.77 s, sys: 647 ms, total: 9.41 s\n",
        "# Wall time: 5min 12s\n",
        "# {'classifier__C': 100, 'classifier__gamma': 0.1}"
      ],
      "metadata": {
        "id": "Q2sCldIvPS7M"
      },
      "execution_count": 85,
      "outputs": []
    },
    {
      "cell_type": "code",
      "source": [
        "# Запишем пайплайн svc с лучшими гиперпараметрами и его метрики\n",
        "\n",
        "model_svc = Pipeline([\n",
        "    ('preprocessing', feats),\n",
        "    ('classifier', SVC(random_state=1, C=100, gamma=0.1))\n",
        "    ])\n",
        "\n",
        "model_svc.fit(X_train, y_train)\n",
        "\n",
        "pred_svc = model_svc.decision_function(X_test)\n",
        "\n",
        "results = compute_result(model_svc, pred_svc, results)"
      ],
      "metadata": {
        "id": "5LOpdsnVPLNR"
      },
      "execution_count": 86,
      "outputs": []
    },
    {
      "cell_type": "markdown",
      "source": [
        "Перейдем к модели экстремальных деревьев:"
      ],
      "metadata": {
        "id": "f2lpsWIvftB9"
      }
    },
    {
      "cell_type": "code",
      "source": [
        "# %%time\n",
        "\n",
        "# from sklearn.ensemble import ExtraTreesClassifier\n",
        "\n",
        "# model_extr = Pipeline([\n",
        "#     ('preprocessing', feats),\n",
        "#     ('classifier', ExtraTreesClassifier(random_state=1))\n",
        "#     ])\n",
        "\n",
        "\n",
        "\n",
        "# params_grid = [{'classifier__n_estimators': [30, 50, 100, 150, 200],\n",
        "#                 'classifier__criterion': ['gini', 'entropy'],\n",
        "#                 'classifier__min_samples_leaf': [1,2,4,8]\n",
        "#                 }]\n",
        "                \n",
        "\n",
        "# grid_extr = GridSearchCV(model_extr, params_grid, cv=5, n_jobs=-1)\n",
        "# grid_extr.fit(X_train, y_train)\n",
        "# grid_extr.best_params_\n",
        "\n",
        "\n",
        "# # ---------------------\n",
        "# CPU times: user 5.67 s, sys: 286 ms, total: 5.96 s\n",
        "# Wall time: 1min 49s\n",
        "# {'classifier__criterion': 'entropy',\n",
        "#  'classifier__min_samples_leaf': 4,\n",
        "#  'classifier__n_estimators': 100}"
      ],
      "metadata": {
        "id": "FkY7FBu5by-N"
      },
      "execution_count": 87,
      "outputs": []
    },
    {
      "cell_type": "code",
      "source": [
        "# Запишем модель с лучшими парметрами\n",
        "\n",
        "from sklearn.ensemble import ExtraTreesClassifier\n",
        "\n",
        "model_extr = Pipeline([\n",
        "    ('preprocessing', feats),\n",
        "    ('classifier', ExtraTreesClassifier(criterion='entropy', min_samples_leaf=4, random_state=1)) # n_estimators по умолчанию итак 100\n",
        "    ])\n",
        "\n",
        "model_extr.fit(X_train, y_train)\n",
        "\n",
        "preds = model_extr.predict_proba(X_test)[:, 1]\n",
        "results = compute_result(model_extr, preds, results)"
      ],
      "metadata": {
        "id": "0isGgKxVc71z"
      },
      "execution_count": 88,
      "outputs": []
    },
    {
      "cell_type": "markdown",
      "source": [
        "Выведем таблицу сравнения метрик"
      ],
      "metadata": {
        "id": "BYahVcRbf98I"
      }
    },
    {
      "cell_type": "code",
      "source": [
        "results\n"
      ],
      "metadata": {
        "colab": {
          "base_uri": "https://localhost:8080/",
          "height": 175
        },
        "id": "z9RcQvgmcRQS",
        "outputId": "99bbafa9-8c90-4ff4-de92-0d58edce1db1"
      },
      "execution_count": 89,
      "outputs": [
        {
          "output_type": "execute_result",
          "data": {
            "text/plain": [
              "                        model    thresh   F-Score  Precision    Recall  \\\n",
              "0  GradientBoostingClassifier  0.385376  0.646483   0.731855  0.578947   \n",
              "1          LogisticRegression  0.842417       NaN   0.000000  0.000000   \n",
              "2                         SVC -0.423594  0.598383   0.685185  0.531100   \n",
              "3        ExtraTreesClassifier  0.323107  0.609477   0.624791  0.594896   \n",
              "\n",
              "    ROC AUC  \n",
              "0  0.870031  \n",
              "1  0.756649  \n",
              "2  0.818572  \n",
              "3  0.842716  "
            ],
            "text/html": [
              "\n",
              "  <div id=\"df-ab5085f5-f835-49de-87e5-afdb60f6ac6f\">\n",
              "    <div class=\"colab-df-container\">\n",
              "      <div>\n",
              "<style scoped>\n",
              "    .dataframe tbody tr th:only-of-type {\n",
              "        vertical-align: middle;\n",
              "    }\n",
              "\n",
              "    .dataframe tbody tr th {\n",
              "        vertical-align: top;\n",
              "    }\n",
              "\n",
              "    .dataframe thead th {\n",
              "        text-align: right;\n",
              "    }\n",
              "</style>\n",
              "<table border=\"1\" class=\"dataframe\">\n",
              "  <thead>\n",
              "    <tr style=\"text-align: right;\">\n",
              "      <th></th>\n",
              "      <th>model</th>\n",
              "      <th>thresh</th>\n",
              "      <th>F-Score</th>\n",
              "      <th>Precision</th>\n",
              "      <th>Recall</th>\n",
              "      <th>ROC AUC</th>\n",
              "    </tr>\n",
              "  </thead>\n",
              "  <tbody>\n",
              "    <tr>\n",
              "      <th>0</th>\n",
              "      <td>GradientBoostingClassifier</td>\n",
              "      <td>0.385376</td>\n",
              "      <td>0.646483</td>\n",
              "      <td>0.731855</td>\n",
              "      <td>0.578947</td>\n",
              "      <td>0.870031</td>\n",
              "    </tr>\n",
              "    <tr>\n",
              "      <th>1</th>\n",
              "      <td>LogisticRegression</td>\n",
              "      <td>0.842417</td>\n",
              "      <td>NaN</td>\n",
              "      <td>0.000000</td>\n",
              "      <td>0.000000</td>\n",
              "      <td>0.756649</td>\n",
              "    </tr>\n",
              "    <tr>\n",
              "      <th>2</th>\n",
              "      <td>SVC</td>\n",
              "      <td>-0.423594</td>\n",
              "      <td>0.598383</td>\n",
              "      <td>0.685185</td>\n",
              "      <td>0.531100</td>\n",
              "      <td>0.818572</td>\n",
              "    </tr>\n",
              "    <tr>\n",
              "      <th>3</th>\n",
              "      <td>ExtraTreesClassifier</td>\n",
              "      <td>0.323107</td>\n",
              "      <td>0.609477</td>\n",
              "      <td>0.624791</td>\n",
              "      <td>0.594896</td>\n",
              "      <td>0.842716</td>\n",
              "    </tr>\n",
              "  </tbody>\n",
              "</table>\n",
              "</div>\n",
              "      <button class=\"colab-df-convert\" onclick=\"convertToInteractive('df-ab5085f5-f835-49de-87e5-afdb60f6ac6f')\"\n",
              "              title=\"Convert this dataframe to an interactive table.\"\n",
              "              style=\"display:none;\">\n",
              "        \n",
              "  <svg xmlns=\"http://www.w3.org/2000/svg\" height=\"24px\"viewBox=\"0 0 24 24\"\n",
              "       width=\"24px\">\n",
              "    <path d=\"M0 0h24v24H0V0z\" fill=\"none\"/>\n",
              "    <path d=\"M18.56 5.44l.94 2.06.94-2.06 2.06-.94-2.06-.94-.94-2.06-.94 2.06-2.06.94zm-11 1L8.5 8.5l.94-2.06 2.06-.94-2.06-.94L8.5 2.5l-.94 2.06-2.06.94zm10 10l.94 2.06.94-2.06 2.06-.94-2.06-.94-.94-2.06-.94 2.06-2.06.94z\"/><path d=\"M17.41 7.96l-1.37-1.37c-.4-.4-.92-.59-1.43-.59-.52 0-1.04.2-1.43.59L10.3 9.45l-7.72 7.72c-.78.78-.78 2.05 0 2.83L4 21.41c.39.39.9.59 1.41.59.51 0 1.02-.2 1.41-.59l7.78-7.78 2.81-2.81c.8-.78.8-2.07 0-2.86zM5.41 20L4 18.59l7.72-7.72 1.47 1.35L5.41 20z\"/>\n",
              "  </svg>\n",
              "      </button>\n",
              "      \n",
              "  <style>\n",
              "    .colab-df-container {\n",
              "      display:flex;\n",
              "      flex-wrap:wrap;\n",
              "      gap: 12px;\n",
              "    }\n",
              "\n",
              "    .colab-df-convert {\n",
              "      background-color: #E8F0FE;\n",
              "      border: none;\n",
              "      border-radius: 50%;\n",
              "      cursor: pointer;\n",
              "      display: none;\n",
              "      fill: #1967D2;\n",
              "      height: 32px;\n",
              "      padding: 0 0 0 0;\n",
              "      width: 32px;\n",
              "    }\n",
              "\n",
              "    .colab-df-convert:hover {\n",
              "      background-color: #E2EBFA;\n",
              "      box-shadow: 0px 1px 2px rgba(60, 64, 67, 0.3), 0px 1px 3px 1px rgba(60, 64, 67, 0.15);\n",
              "      fill: #174EA6;\n",
              "    }\n",
              "\n",
              "    [theme=dark] .colab-df-convert {\n",
              "      background-color: #3B4455;\n",
              "      fill: #D2E3FC;\n",
              "    }\n",
              "\n",
              "    [theme=dark] .colab-df-convert:hover {\n",
              "      background-color: #434B5C;\n",
              "      box-shadow: 0px 1px 3px 1px rgba(0, 0, 0, 0.15);\n",
              "      filter: drop-shadow(0px 1px 2px rgba(0, 0, 0, 0.3));\n",
              "      fill: #FFFFFF;\n",
              "    }\n",
              "  </style>\n",
              "\n",
              "      <script>\n",
              "        const buttonEl =\n",
              "          document.querySelector('#df-ab5085f5-f835-49de-87e5-afdb60f6ac6f button.colab-df-convert');\n",
              "        buttonEl.style.display =\n",
              "          google.colab.kernel.accessAllowed ? 'block' : 'none';\n",
              "\n",
              "        async function convertToInteractive(key) {\n",
              "          const element = document.querySelector('#df-ab5085f5-f835-49de-87e5-afdb60f6ac6f');\n",
              "          const dataTable =\n",
              "            await google.colab.kernel.invokeFunction('convertToInteractive',\n",
              "                                                     [key], {});\n",
              "          if (!dataTable) return;\n",
              "\n",
              "          const docLinkHtml = 'Like what you see? Visit the ' +\n",
              "            '<a target=\"_blank\" href=https://colab.research.google.com/notebooks/data_table.ipynb>data table notebook</a>'\n",
              "            + ' to learn more about interactive tables.';\n",
              "          element.innerHTML = '';\n",
              "          dataTable['output_type'] = 'display_data';\n",
              "          await google.colab.output.renderOutput(dataTable, element);\n",
              "          const docLink = document.createElement('div');\n",
              "          docLink.innerHTML = docLinkHtml;\n",
              "          element.appendChild(docLink);\n",
              "        }\n",
              "      </script>\n",
              "    </div>\n",
              "  </div>\n",
              "  "
            ]
          },
          "metadata": {},
          "execution_count": 89
        }
      ]
    },
    {
      "cell_type": "markdown",
      "source": [
        "Видим что с логистической регрессией что-то не то, при этом svc отработал корректно.\n",
        "\n",
        "Лучше всего отрабатывает Градиентный бустинг, т.к. имеем самые высокие fscore и roc auc"
      ],
      "metadata": {
        "id": "GTGXCZW3gRc_"
      }
    },
    {
      "cell_type": "markdown",
      "source": [
        "__Теперь приступим к оценке прибыльности бизнес-стратегии:__ \n",
        "<br>\n",
        "\n",
        "Для начала нужно получить confusion matrix, а перед этим сформировать предсказания классов у нашей модели гр. бустинга, исходя из найденного порога 0.385376.\n"
      ],
      "metadata": {
        "id": "q_0vuhNTiZYi"
      }
    },
    {
      "cell_type": "code",
      "source": [
        "# повторим чтобы было перед глазами. Предсказания лучшей модели гр. бустинга\n",
        "pred_gb = gb_model.predict_proba(X_test)[:, 1]\n",
        "\n",
        "# вариант 1\n",
        "# cnf_matrix = confusion_matrix(y_test, pred_gb > 0.385376)\n",
        "\n",
        "# TN = cnf_matrix[0][0]\n",
        "# FP = cnf_matrix[0][1]\n",
        "# FN = cnf_matrix[1][0]\n",
        "# TP = cnf_matrix[1][1]\n",
        "\n",
        "# вариант 2\n",
        "TN, FP, FN, TP = confusion_matrix(y_test, pred_gb > 0.385376).ravel() # последовательность TN, FP, FN, TP из документации\n",
        "\n",
        "# затраты на удержание\n",
        "retain_sum = (FP + TP) * 1   # перерасход при удержании идет за счет тех, кого считаем положительными и ошибаемся в этом\n",
        "\n",
        "# доход с верно определенного лояльным клиента\n",
        "income = TP * 5      # доход получаем только с выявленного по-настоящему лояльного клиента\n",
        "\n",
        "# прибыльность бизнес стратегии тратить бакс на удержание при доходе в два бакса с удержанного настоящего лояльного\n",
        "print(f' Доходность бизнес-стратегии: {income - retain_sum}$ в мес. чистыми, расходы на неверно классифицированных клиентов {FP * 1}$')"
      ],
      "metadata": {
        "colab": {
          "base_uri": "https://localhost:8080/"
        },
        "id": "B80R4e9AgNKZ",
        "outputId": "44830462-de80-4836-e270-8a10fa746f12"
      },
      "execution_count": 105,
      "outputs": [
        {
          "output_type": "stream",
          "name": "stdout",
          "text": [
            " Доходность бизнес-стратегии: 1319$ в мес. чистыми, расходы на неверно классифицированных клиентов 133$\n"
          ]
        }
      ]
    },
    {
      "cell_type": "code",
      "source": [
        "TP"
      ],
      "metadata": {
        "colab": {
          "base_uri": "https://localhost:8080/"
        },
        "id": "VynSY-pSl12d",
        "outputId": "dbc367fb-6eea-43d8-e7f6-3bfd8d8cc360"
      },
      "execution_count": 106,
      "outputs": [
        {
          "output_type": "execute_result",
          "data": {
            "text/plain": [
              "363"
            ]
          },
          "metadata": {},
          "execution_count": 106
        }
      ]
    },
    {
      "cell_type": "markdown",
      "source": [
        "Таким образом, данная модель МО и выбранная бизнес стратегия позволяют приносить ежемесячно 1319$\n",
        "\n",
        "\n",
        "Сравним ради интереса показатель доходности с неулучшенной моделью МО (настройки по умолчанию) и без подбора порога:"
      ],
      "metadata": {
        "id": "MKX-gkxZhW7U"
      }
    },
    {
      "cell_type": "code",
      "source": [
        "gb_model_poor = Pipeline([\n",
        "    ('preprocessing', feats),\n",
        "    ('classifier', GradientBoostingClassifier(random_state=1))\n",
        "])\n",
        "\n",
        "gb_model_poor.fit(X_train, y_train)\n",
        "\n",
        "pred_gb_poor = gb_model_poor.predict(X_test)\n",
        "\n",
        "TN, FP, FN, TP = confusion_matrix(y_test, pred_gb_poor).ravel() # последовательность TN, FP, FN, TP из документации\n",
        "\n",
        "# затраты на удержание\n",
        "retain_sum = (FP + TP) * 1   \n",
        "\n",
        "# доход с верно определенного лояльным клиента\n",
        "income = TP * 5     \n",
        "\n",
        "# прибыльность бизнеса\n",
        "print(f' Доходность бизнес-стратегии: {income - retain_sum}$ в мес. чистыми, расходы на неверно классифицированных клиентов {FP * 1}$')"
      ],
      "metadata": {
        "colab": {
          "base_uri": "https://localhost:8080/"
        },
        "id": "-Rx3Ky2YiiKn",
        "outputId": "54aeff58-6bc4-4adb-c790-ec3f387b3776"
      },
      "execution_count": 107,
      "outputs": [
        {
          "output_type": "stream",
          "name": "stdout",
          "text": [
            " Доходность бизнес-стратегии: 1100$ в мес. чистыми, расходы на неверно классифицированных клиентов 84$\n"
          ]
        }
      ]
    },
    {
      "cell_type": "code",
      "source": [
        "TP"
      ],
      "metadata": {
        "colab": {
          "base_uri": "https://localhost:8080/"
        },
        "id": "2AKg4nIPl5R8",
        "outputId": "c5ba0017-d005-453a-def4-751b52ee4cec"
      },
      "execution_count": 108,
      "outputs": [
        {
          "output_type": "execute_result",
          "data": {
            "text/plain": [
              "296"
            ]
          },
          "metadata": {},
          "execution_count": 108
        }
      ]
    },
    {
      "cell_type": "markdown",
      "source": [
        "Видно что тюнинговая модель с оптимально выбранным порогом позволяет больше выявлять реальных лояльных клиентов, при больше получаем и ложных лояльных клиентов и затраты на них, однако чистых доход эта модель приносит на 219 баксов больше "
      ],
      "metadata": {
        "id": "CS9PujKvjSR1"
      }
    },
    {
      "cell_type": "code",
      "source": [
        "pd.crosstab(y_test, pred_gb > 0.385376)"
      ],
      "metadata": {
        "colab": {
          "base_uri": "https://localhost:8080/",
          "height": 143
        },
        "id": "tnRS6XAglBCh",
        "outputId": "7c6f3541-49d5-47fc-831e-641c98a6bc6d"
      },
      "execution_count": 109,
      "outputs": [
        {
          "output_type": "execute_result",
          "data": {
            "text/plain": [
              "col_0   False  True\n",
              "Exited             \n",
              "0        2240   133\n",
              "1         264   363"
            ],
            "text/html": [
              "\n",
              "  <div id=\"df-85d061de-4fd3-4359-8f24-056ee6fbccd4\">\n",
              "    <div class=\"colab-df-container\">\n",
              "      <div>\n",
              "<style scoped>\n",
              "    .dataframe tbody tr th:only-of-type {\n",
              "        vertical-align: middle;\n",
              "    }\n",
              "\n",
              "    .dataframe tbody tr th {\n",
              "        vertical-align: top;\n",
              "    }\n",
              "\n",
              "    .dataframe thead th {\n",
              "        text-align: right;\n",
              "    }\n",
              "</style>\n",
              "<table border=\"1\" class=\"dataframe\">\n",
              "  <thead>\n",
              "    <tr style=\"text-align: right;\">\n",
              "      <th>col_0</th>\n",
              "      <th>False</th>\n",
              "      <th>True</th>\n",
              "    </tr>\n",
              "    <tr>\n",
              "      <th>Exited</th>\n",
              "      <th></th>\n",
              "      <th></th>\n",
              "    </tr>\n",
              "  </thead>\n",
              "  <tbody>\n",
              "    <tr>\n",
              "      <th>0</th>\n",
              "      <td>2240</td>\n",
              "      <td>133</td>\n",
              "    </tr>\n",
              "    <tr>\n",
              "      <th>1</th>\n",
              "      <td>264</td>\n",
              "      <td>363</td>\n",
              "    </tr>\n",
              "  </tbody>\n",
              "</table>\n",
              "</div>\n",
              "      <button class=\"colab-df-convert\" onclick=\"convertToInteractive('df-85d061de-4fd3-4359-8f24-056ee6fbccd4')\"\n",
              "              title=\"Convert this dataframe to an interactive table.\"\n",
              "              style=\"display:none;\">\n",
              "        \n",
              "  <svg xmlns=\"http://www.w3.org/2000/svg\" height=\"24px\"viewBox=\"0 0 24 24\"\n",
              "       width=\"24px\">\n",
              "    <path d=\"M0 0h24v24H0V0z\" fill=\"none\"/>\n",
              "    <path d=\"M18.56 5.44l.94 2.06.94-2.06 2.06-.94-2.06-.94-.94-2.06-.94 2.06-2.06.94zm-11 1L8.5 8.5l.94-2.06 2.06-.94-2.06-.94L8.5 2.5l-.94 2.06-2.06.94zm10 10l.94 2.06.94-2.06 2.06-.94-2.06-.94-.94-2.06-.94 2.06-2.06.94z\"/><path d=\"M17.41 7.96l-1.37-1.37c-.4-.4-.92-.59-1.43-.59-.52 0-1.04.2-1.43.59L10.3 9.45l-7.72 7.72c-.78.78-.78 2.05 0 2.83L4 21.41c.39.39.9.59 1.41.59.51 0 1.02-.2 1.41-.59l7.78-7.78 2.81-2.81c.8-.78.8-2.07 0-2.86zM5.41 20L4 18.59l7.72-7.72 1.47 1.35L5.41 20z\"/>\n",
              "  </svg>\n",
              "      </button>\n",
              "      \n",
              "  <style>\n",
              "    .colab-df-container {\n",
              "      display:flex;\n",
              "      flex-wrap:wrap;\n",
              "      gap: 12px;\n",
              "    }\n",
              "\n",
              "    .colab-df-convert {\n",
              "      background-color: #E8F0FE;\n",
              "      border: none;\n",
              "      border-radius: 50%;\n",
              "      cursor: pointer;\n",
              "      display: none;\n",
              "      fill: #1967D2;\n",
              "      height: 32px;\n",
              "      padding: 0 0 0 0;\n",
              "      width: 32px;\n",
              "    }\n",
              "\n",
              "    .colab-df-convert:hover {\n",
              "      background-color: #E2EBFA;\n",
              "      box-shadow: 0px 1px 2px rgba(60, 64, 67, 0.3), 0px 1px 3px 1px rgba(60, 64, 67, 0.15);\n",
              "      fill: #174EA6;\n",
              "    }\n",
              "\n",
              "    [theme=dark] .colab-df-convert {\n",
              "      background-color: #3B4455;\n",
              "      fill: #D2E3FC;\n",
              "    }\n",
              "\n",
              "    [theme=dark] .colab-df-convert:hover {\n",
              "      background-color: #434B5C;\n",
              "      box-shadow: 0px 1px 3px 1px rgba(0, 0, 0, 0.15);\n",
              "      filter: drop-shadow(0px 1px 2px rgba(0, 0, 0, 0.3));\n",
              "      fill: #FFFFFF;\n",
              "    }\n",
              "  </style>\n",
              "\n",
              "      <script>\n",
              "        const buttonEl =\n",
              "          document.querySelector('#df-85d061de-4fd3-4359-8f24-056ee6fbccd4 button.colab-df-convert');\n",
              "        buttonEl.style.display =\n",
              "          google.colab.kernel.accessAllowed ? 'block' : 'none';\n",
              "\n",
              "        async function convertToInteractive(key) {\n",
              "          const element = document.querySelector('#df-85d061de-4fd3-4359-8f24-056ee6fbccd4');\n",
              "          const dataTable =\n",
              "            await google.colab.kernel.invokeFunction('convertToInteractive',\n",
              "                                                     [key], {});\n",
              "          if (!dataTable) return;\n",
              "\n",
              "          const docLinkHtml = 'Like what you see? Visit the ' +\n",
              "            '<a target=\"_blank\" href=https://colab.research.google.com/notebooks/data_table.ipynb>data table notebook</a>'\n",
              "            + ' to learn more about interactive tables.';\n",
              "          element.innerHTML = '';\n",
              "          dataTable['output_type'] = 'display_data';\n",
              "          await google.colab.output.renderOutput(dataTable, element);\n",
              "          const docLink = document.createElement('div');\n",
              "          docLink.innerHTML = docLinkHtml;\n",
              "          element.appendChild(docLink);\n",
              "        }\n",
              "      </script>\n",
              "    </div>\n",
              "  </div>\n",
              "  "
            ]
          },
          "metadata": {},
          "execution_count": 109
        }
      ]
    },
    {
      "cell_type": "code",
      "source": [
        "pd.crosstab(y_test, pred_gb_poor)"
      ],
      "metadata": {
        "colab": {
          "base_uri": "https://localhost:8080/",
          "height": 143
        },
        "id": "gK1BlPw5mCUF",
        "outputId": "3f91db71-9930-415b-bc67-07f4f3e08271"
      },
      "execution_count": 110,
      "outputs": [
        {
          "output_type": "execute_result",
          "data": {
            "text/plain": [
              "col_0      0    1\n",
              "Exited           \n",
              "0       2289   84\n",
              "1        331  296"
            ],
            "text/html": [
              "\n",
              "  <div id=\"df-779aee06-13ab-4695-ad9f-7ac03e1fb333\">\n",
              "    <div class=\"colab-df-container\">\n",
              "      <div>\n",
              "<style scoped>\n",
              "    .dataframe tbody tr th:only-of-type {\n",
              "        vertical-align: middle;\n",
              "    }\n",
              "\n",
              "    .dataframe tbody tr th {\n",
              "        vertical-align: top;\n",
              "    }\n",
              "\n",
              "    .dataframe thead th {\n",
              "        text-align: right;\n",
              "    }\n",
              "</style>\n",
              "<table border=\"1\" class=\"dataframe\">\n",
              "  <thead>\n",
              "    <tr style=\"text-align: right;\">\n",
              "      <th>col_0</th>\n",
              "      <th>0</th>\n",
              "      <th>1</th>\n",
              "    </tr>\n",
              "    <tr>\n",
              "      <th>Exited</th>\n",
              "      <th></th>\n",
              "      <th></th>\n",
              "    </tr>\n",
              "  </thead>\n",
              "  <tbody>\n",
              "    <tr>\n",
              "      <th>0</th>\n",
              "      <td>2289</td>\n",
              "      <td>84</td>\n",
              "    </tr>\n",
              "    <tr>\n",
              "      <th>1</th>\n",
              "      <td>331</td>\n",
              "      <td>296</td>\n",
              "    </tr>\n",
              "  </tbody>\n",
              "</table>\n",
              "</div>\n",
              "      <button class=\"colab-df-convert\" onclick=\"convertToInteractive('df-779aee06-13ab-4695-ad9f-7ac03e1fb333')\"\n",
              "              title=\"Convert this dataframe to an interactive table.\"\n",
              "              style=\"display:none;\">\n",
              "        \n",
              "  <svg xmlns=\"http://www.w3.org/2000/svg\" height=\"24px\"viewBox=\"0 0 24 24\"\n",
              "       width=\"24px\">\n",
              "    <path d=\"M0 0h24v24H0V0z\" fill=\"none\"/>\n",
              "    <path d=\"M18.56 5.44l.94 2.06.94-2.06 2.06-.94-2.06-.94-.94-2.06-.94 2.06-2.06.94zm-11 1L8.5 8.5l.94-2.06 2.06-.94-2.06-.94L8.5 2.5l-.94 2.06-2.06.94zm10 10l.94 2.06.94-2.06 2.06-.94-2.06-.94-.94-2.06-.94 2.06-2.06.94z\"/><path d=\"M17.41 7.96l-1.37-1.37c-.4-.4-.92-.59-1.43-.59-.52 0-1.04.2-1.43.59L10.3 9.45l-7.72 7.72c-.78.78-.78 2.05 0 2.83L4 21.41c.39.39.9.59 1.41.59.51 0 1.02-.2 1.41-.59l7.78-7.78 2.81-2.81c.8-.78.8-2.07 0-2.86zM5.41 20L4 18.59l7.72-7.72 1.47 1.35L5.41 20z\"/>\n",
              "  </svg>\n",
              "      </button>\n",
              "      \n",
              "  <style>\n",
              "    .colab-df-container {\n",
              "      display:flex;\n",
              "      flex-wrap:wrap;\n",
              "      gap: 12px;\n",
              "    }\n",
              "\n",
              "    .colab-df-convert {\n",
              "      background-color: #E8F0FE;\n",
              "      border: none;\n",
              "      border-radius: 50%;\n",
              "      cursor: pointer;\n",
              "      display: none;\n",
              "      fill: #1967D2;\n",
              "      height: 32px;\n",
              "      padding: 0 0 0 0;\n",
              "      width: 32px;\n",
              "    }\n",
              "\n",
              "    .colab-df-convert:hover {\n",
              "      background-color: #E2EBFA;\n",
              "      box-shadow: 0px 1px 2px rgba(60, 64, 67, 0.3), 0px 1px 3px 1px rgba(60, 64, 67, 0.15);\n",
              "      fill: #174EA6;\n",
              "    }\n",
              "\n",
              "    [theme=dark] .colab-df-convert {\n",
              "      background-color: #3B4455;\n",
              "      fill: #D2E3FC;\n",
              "    }\n",
              "\n",
              "    [theme=dark] .colab-df-convert:hover {\n",
              "      background-color: #434B5C;\n",
              "      box-shadow: 0px 1px 3px 1px rgba(0, 0, 0, 0.15);\n",
              "      filter: drop-shadow(0px 1px 2px rgba(0, 0, 0, 0.3));\n",
              "      fill: #FFFFFF;\n",
              "    }\n",
              "  </style>\n",
              "\n",
              "      <script>\n",
              "        const buttonEl =\n",
              "          document.querySelector('#df-779aee06-13ab-4695-ad9f-7ac03e1fb333 button.colab-df-convert');\n",
              "        buttonEl.style.display =\n",
              "          google.colab.kernel.accessAllowed ? 'block' : 'none';\n",
              "\n",
              "        async function convertToInteractive(key) {\n",
              "          const element = document.querySelector('#df-779aee06-13ab-4695-ad9f-7ac03e1fb333');\n",
              "          const dataTable =\n",
              "            await google.colab.kernel.invokeFunction('convertToInteractive',\n",
              "                                                     [key], {});\n",
              "          if (!dataTable) return;\n",
              "\n",
              "          const docLinkHtml = 'Like what you see? Visit the ' +\n",
              "            '<a target=\"_blank\" href=https://colab.research.google.com/notebooks/data_table.ipynb>data table notebook</a>'\n",
              "            + ' to learn more about interactive tables.';\n",
              "          element.innerHTML = '';\n",
              "          dataTable['output_type'] = 'display_data';\n",
              "          await google.colab.output.renderOutput(dataTable, element);\n",
              "          const docLink = document.createElement('div');\n",
              "          docLink.innerHTML = docLinkHtml;\n",
              "          element.appendChild(docLink);\n",
              "        }\n",
              "      </script>\n",
              "    </div>\n",
              "  </div>\n",
              "  "
            ]
          },
          "metadata": {},
          "execution_count": 110
        }
      ]
    }
  ]
}