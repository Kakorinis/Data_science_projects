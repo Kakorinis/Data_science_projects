{
 "cells": [
  {
   "cell_type": "markdown",
   "id": "b83c6b97",
   "metadata": {},
   "source": [
    "**Задание на повторение материала\n",
    "1)Создать одномерный массив Numpy под названием a из 12 последовательных целых чисел чисел от 12 до 24 невключительно"
   ]
  },
  {
   "cell_type": "code",
   "execution_count": 1,
   "id": "dfd00df9",
   "metadata": {},
   "outputs": [],
   "source": [
    "import numpy as np"
   ]
  },
  {
   "cell_type": "code",
   "execution_count": 2,
   "id": "b572c83f",
   "metadata": {},
   "outputs": [
    {
     "name": "stdout",
     "output_type": "stream",
     "text": [
      "[12 13 14 15 16 17 18 19 20 21 22 23]\n"
     ]
    }
   ],
   "source": [
    "a = np.array([i for i in range(12, 24)])\n",
    "print(a)\n"
   ]
  },
  {
   "cell_type": "markdown",
   "id": "1a6c3ce8",
   "metadata": {},
   "source": [
    "2)Создать 5 двумерных массивов разной формы из массива a. Не использовать в аргументах метода reshape число -1."
   ]
  },
  {
   "cell_type": "code",
   "execution_count": 4,
   "id": "26755b3a",
   "metadata": {
    "scrolled": true
   },
   "outputs": [
    {
     "data": {
      "text/plain": [
       "array([[12, 13],\n",
       "       [14, 15],\n",
       "       [16, 17],\n",
       "       [18, 19],\n",
       "       [20, 21],\n",
       "       [22, 23]])"
      ]
     },
     "execution_count": 4,
     "metadata": {},
     "output_type": "execute_result"
    }
   ],
   "source": [
    "b = a.reshape(2,6)\n",
    "c = b /2\n",
    "d = b *2\n",
    "e = d - c\n",
    "r = b + e\n",
    "\n",
    "\n"
   ]
  },
  {
   "cell_type": "markdown",
   "id": "cf1b5b0d",
   "metadata": {},
   "source": [
    "3)Создать 5 двумерных массивов разной формы из массива a. Использовать в аргументах метода reshape число -1 (в трех примерах - для обозначения числа столбцов, в двух - для строк)"
   ]
  },
  {
   "cell_type": "code",
   "execution_count": 13,
   "id": "36404ceb",
   "metadata": {},
   "outputs": [
    {
     "data": {
      "text/plain": [
       "array([[12, 13, 14, 15],\n",
       "       [16, 17, 18, 19],\n",
       "       [20, 21, 22, 23]])"
      ]
     },
     "execution_count": 13,
     "metadata": {},
     "output_type": "execute_result"
    }
   ],
   "source": [
    "v = a.reshape(6,-1)\n",
    "q = a.reshape(4,-1)\n",
    "z = a.reshape(3,-1)\n",
    "vv = a.reshape(-1,3)\n",
    "qq = a.reshape(-1,4)\n",
    "qq"
   ]
  },
  {
   "cell_type": "markdown",
   "id": "27a530c1",
   "metadata": {},
   "source": [
    "4)Можно ли массив Numpy, состоящий из одного столбца и 12 строк, назвать одномерным?"
   ]
  },
  {
   "cell_type": "code",
   "execution_count": 20,
   "id": "4ea9a177",
   "metadata": {},
   "outputs": [
    {
     "data": {
      "text/plain": [
       "1"
      ]
     },
     "execution_count": 20,
     "metadata": {},
     "output_type": "execute_result"
    }
   ],
   "source": [
    "arr = np.array([[12],\n",
    "       [16],\n",
    "       [20],\n",
    "       [21]])\n",
    "#arr.ndim # показывает 2, значит двумерный\n",
    "\n",
    "ar = np.array([1,2,3,4,5,5])\n",
    "ar.ndim # показывает 1, значит одномерный"
   ]
  },
  {
   "cell_type": "markdown",
   "id": "1efa6369",
   "metadata": {},
   "source": [
    "5)Создать массив из 3 строк и 4 столбцов, состоящий из случайных чисел с плавающей запятой из нормального распределения со средним, равным 0 и среднеквадратичным отклонением, равным 1.0. Получить из этого массива одномерный массив с таким же атрибутом size, как и исходный массив. "
   ]
  },
  {
   "cell_type": "code",
   "execution_count": 26,
   "id": "e0ff9896",
   "metadata": {},
   "outputs": [
    {
     "data": {
      "text/plain": [
       "10"
      ]
     },
     "execution_count": 26,
     "metadata": {},
     "output_type": "execute_result"
    }
   ],
   "source": [
    "c = np.linspace(2, 3, 10)\n",
    "c.size\n",
    "\n",
    "d = c.flatten()\n",
    "d.size"
   ]
  },
  {
   "cell_type": "markdown",
   "id": "8786db5c",
   "metadata": {},
   "source": [
    "6)Создать массив a, состоящий из целых чисел, убывающих от 20 до 0 невключительно с интервалом 2."
   ]
  },
  {
   "cell_type": "code",
   "execution_count": 28,
   "id": "cbf3158d",
   "metadata": {},
   "outputs": [
    {
     "data": {
      "text/plain": [
       "array([20, 18, 16, 14, 12, 10,  8,  6,  4,  2])"
      ]
     },
     "execution_count": 28,
     "metadata": {},
     "output_type": "execute_result"
    }
   ],
   "source": [
    "a = np.arange(20,0,-2)\n",
    "a"
   ]
  },
  {
   "cell_type": "markdown",
   "id": "04e6abd5",
   "metadata": {},
   "source": [
    "7)Создать массив b, состоящий из 1 строки и 10 столбцов: целых чисел, убывающих от 20 до 1 невключительно с интервалом 2. В чем разница между массивами a и b?"
   ]
  },
  {
   "cell_type": "code",
   "execution_count": 31,
   "id": "c275d5a0",
   "metadata": {},
   "outputs": [
    {
     "data": {
      "text/plain": [
       "array([[20, 18, 16, 14, 12, 10,  8,  6,  4,  2]])"
      ]
     },
     "execution_count": 31,
     "metadata": {},
     "output_type": "execute_result"
    }
   ],
   "source": [
    "b = np.arange(20,1,-2)\n",
    "b.reshape(1,10)\n",
    "# a - одномерный, b - двумерный"
   ]
  },
  {
   "cell_type": "markdown",
   "id": "46f19b8e",
   "metadata": {},
   "source": [
    "8)Вертикально соединить массивы a и b. a - двумерный массив из нулей, число строк которого больше 1 и на 1 меньше, чем число строк двумерного массива b, состоящего из единиц. Итоговый массив v должен иметь атрибут size, равный 10. "
   ]
  },
  {
   "cell_type": "code",
   "execution_count": 38,
   "id": "3aa500ed",
   "metadata": {},
   "outputs": [
    {
     "data": {
      "text/plain": [
       "array([[0],\n",
       "       [0],\n",
       "       [0],\n",
       "       [1],\n",
       "       [1]])"
      ]
     },
     "execution_count": 38,
     "metadata": {},
     "output_type": "execute_result"
    }
   ],
   "source": [
    "A = np.array([[0], \n",
    "              [0], \n",
    "              [0]])\n",
    "\n",
    "B = np.array([[1], \n",
    "              [1]])\n",
    "\n",
    "v = np.vstack((A, B))\n",
    "v"
   ]
  },
  {
   "cell_type": "markdown",
   "id": "5955bc65",
   "metadata": {},
   "source": [
    "9)Создать одномерный массив а, состоящий из последовательности целых чисел от 0 до 12. Поменять форму этого массива, чтобы получилась матрица A (двумерный массив Numpy), состоящая из 4 строк и 3 столбцов. Получить матрицу At путем транспонирования матрицы A. Получить матрицу B, умножив матрицу A на матрицу At с помощью матричного умножения."
   ]
  },
  {
   "cell_type": "code",
   "execution_count": 47,
   "id": "2968ec73",
   "metadata": {},
   "outputs": [
    {
     "data": {
      "text/plain": [
       "array([[  5,  14,  23,  32],\n",
       "       [ 14,  50,  86, 122],\n",
       "       [ 23,  86, 149, 212],\n",
       "       [ 32, 122, 212, 302]])"
      ]
     },
     "execution_count": 47,
     "metadata": {},
     "output_type": "execute_result"
    }
   ],
   "source": [
    "a = np.arange(0,12)\n",
    "A = a.reshape(4,3)\n",
    "\n",
    "# Транспонированной матрицей_ называется матрица $A^\\top$, полученная \"отражением\" матрицы $A$ относительно \n",
    "# её главной диагонали\n",
    "\n",
    "At = np.transpose(A)\n",
    "B = A.dot(At)\n",
    "B"
   ]
  },
  {
   "cell_type": "markdown",
   "id": "c0087a79",
   "metadata": {},
   "source": [
    "10)Какой размер имеет матрица B? Получится ли вычислить обратную матрицу для матрицы B и почему?"
   ]
  },
  {
   "cell_type": "code",
   "execution_count": 49,
   "id": "0af7a2f2",
   "metadata": {},
   "outputs": [
    {
     "data": {
      "text/plain": [
       "0.0"
      ]
     },
     "execution_count": 49,
     "metadata": {},
     "output_type": "execute_result"
    }
   ],
   "source": [
    "B.size\n",
    "np.linalg.det(B)\n",
    "# обратную матрицу можно посчитать только для матрицы, определитель которой не равен $0$"
   ]
  },
  {
   "cell_type": "markdown",
   "id": "1565dff9",
   "metadata": {},
   "source": [
    "11)Инициализируйте генератор случайных числе с помощью объекта seed, равного 42."
   ]
  },
  {
   "cell_type": "code",
   "execution_count": 51,
   "id": "3a255f7f",
   "metadata": {},
   "outputs": [
    {
     "data": {
      "text/plain": [
       "array([18, 17, 36, 23, 40, 10, 22, 38, 15, 22])"
      ]
     },
     "execution_count": 51,
     "metadata": {},
     "output_type": "execute_result"
    }
   ],
   "source": [
    "seed = 42\n",
    "a = np.random.randint(0, seed, 10)\n",
    "a"
   ]
  },
  {
   "cell_type": "markdown",
   "id": "2ad9ceab",
   "metadata": {},
   "source": [
    "12)Создайте одномерный массив c, составленный из последовательности 16-ти случайных равномерно распределенных целых чисел от 0 до 16 невключительно. "
   ]
  },
  {
   "cell_type": "code",
   "execution_count": 53,
   "id": "bfd720f7",
   "metadata": {},
   "outputs": [],
   "source": [
    "# задание непонятно"
   ]
  },
  {
   "cell_type": "markdown",
   "id": "c1561f23",
   "metadata": {},
   "source": [
    "13)Поменяйте его форму так, чтобы получилась квадратная матрица C. Получите матрицу D, поэлементно прибавив матрицу B из предыдущего вопроса к матрице C, умноженной на 10. Вычислите определитель, ранг и обратную матрицу D_inv для D."
   ]
  },
  {
   "cell_type": "markdown",
   "id": "06698db8",
   "metadata": {},
   "source": [
    "14)Приравняйте к нулю отрицательные числа в матрице D_inv, а положительные - к единице. Убедитесь, что в матрице D_inv остались только нули и единицы. С помощью функции numpy.where, используя матрицу D_inv в качестве маски, а матрицы B и C - в качестве источников данных, получите матрицу E размером 4x4. Элементы матрицы E, для которых соответствующий элемент матрицы D_inv равен 1, должны быть равны соответствующему элементу матрицы B, а элементы матрицы E, для которых соответствующий элемент матрицы D_inv равен 0, должны быть равны соответствующему элементу матрицы C."
   ]
  }
 ],
 "metadata": {
  "kernelspec": {
   "display_name": "Python 3",
   "language": "python",
   "name": "python3"
  },
  "language_info": {
   "codemirror_mode": {
    "name": "ipython",
    "version": 3
   },
   "file_extension": ".py",
   "mimetype": "text/x-python",
   "name": "python",
   "nbconvert_exporter": "python",
   "pygments_lexer": "ipython3",
   "version": "3.8.8"
  }
 },
 "nbformat": 4,
 "nbformat_minor": 5
}
