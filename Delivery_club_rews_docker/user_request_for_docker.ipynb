{
  "nbformat": 4,
  "nbformat_minor": 0,
  "metadata": {
    "colab": {
      "provenance": []
    },
    "kernelspec": {
      "name": "python3",
      "display_name": "Python 3"
    },
    "language_info": {
      "name": "python"
    }
  },
  "cells": [
    {
      "cell_type": "code",
      "execution_count": 7,
      "metadata": {
        "id": "WulUpyvjKkY3"
      },
      "outputs": [],
      "source": [
        "import pandas as pd\n",
        "\n",
        "from urllib import request, parse\n",
        "\n",
        "import urllib.request\n",
        "import json      \n",
        "\n",
        "\n",
        "def get_prediction(x):\n",
        "    user_id, user_text = x\n",
        "    body = {\n",
        "        'id': user_id, \n",
        "        'text': user_text\n",
        "        }\n",
        "\n",
        "    myurl = \"http://0.0.0.0:8180/predict\" \n",
        "    req = urllib.request.Request(myurl)\n",
        "   # print('first request')\n",
        "    req.add_header('Content-Type', 'application/json; charset=utf-8')\n",
        "    jsondata = json.dumps(body)\n",
        "    jsondataasbytes = jsondata.encode('utf-8')   # needs to be bytes\n",
        "    req.add_header('Content-Length', len(jsondataasbytes))\n",
        " #   print (jsondataasbytes)\n",
        "    response = urllib.request.urlopen(req, jsondataasbytes)\n",
        "   # print('second request')\n",
        "    return json.loads(response.read())['predictions'], body['text']\n"
      ]
    },
    {
      "cell_type": "code",
      "source": [
        "get_prediction(('24224', 'Плохо, отравился, болит'))"
      ],
      "metadata": {
        "id": "KYyNuxNyKrPV"
      },
      "execution_count": 8,
      "outputs": []
    }
  ]
}